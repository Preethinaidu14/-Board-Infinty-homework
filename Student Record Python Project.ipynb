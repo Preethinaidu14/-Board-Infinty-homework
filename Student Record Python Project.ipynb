{
 "cells": [
  {
   "cell_type": "code",
   "execution_count": 1,
   "metadata": {},
   "outputs": [],
   "source": [
    "import pandas as pd\n",
    "import glob\n",
    "import numpy as np\n",
    "import seaborn as sns\n",
    "import matplotlib.pyplot as plt\n",
    "import os"
   ]
  },
  {
   "cell_type": "code",
   "execution_count": 2,
   "metadata": {},
   "outputs": [
    {
     "data": {
      "text/plain": [
       "'C:\\\\Users\\\\preethi'"
      ]
     },
     "execution_count": 2,
     "metadata": {},
     "output_type": "execute_result"
    }
   ],
   "source": [
    "pwd"
   ]
  },
  {
   "cell_type": "code",
   "execution_count": 3,
   "metadata": {},
   "outputs": [
    {
     "name": "stdout",
     "output_type": "stream",
     "text": [
      "(1017, 4)\n"
     ]
    },
    {
     "data": {
      "text/html": [
       "<div>\n",
       "<style scoped>\n",
       "    .dataframe tbody tr th:only-of-type {\n",
       "        vertical-align: middle;\n",
       "    }\n",
       "\n",
       "    .dataframe tbody tr th {\n",
       "        vertical-align: top;\n",
       "    }\n",
       "\n",
       "    .dataframe thead th {\n",
       "        text-align: right;\n",
       "    }\n",
       "</style>\n",
       "<table border=\"1\" class=\"dataframe\">\n",
       "  <thead>\n",
       "    <tr style=\"text-align: right;\">\n",
       "      <th></th>\n",
       "      <th>enrollmentnumber</th>\n",
       "      <th>admn</th>\n",
       "      <th>studentname</th>\n",
       "      <th>studentEmail</th>\n",
       "    </tr>\n",
       "  </thead>\n",
       "  <tbody>\n",
       "    <tr>\n",
       "      <th>0</th>\n",
       "      <td>1613101016</td>\n",
       "      <td>16SCSE101757</td>\n",
       "      <td>AAYUSH  TYAGI</td>\n",
       "      <td>NaN</td>\n",
       "    </tr>\n",
       "    <tr>\n",
       "      <th>1</th>\n",
       "      <td>1613101026</td>\n",
       "      <td>16SCSE101415</td>\n",
       "      <td>ABHISHEK</td>\n",
       "      <td>NaN</td>\n",
       "    </tr>\n",
       "    <tr>\n",
       "      <th>2</th>\n",
       "      <td>1613101051</td>\n",
       "      <td>16SCSE101222</td>\n",
       "      <td>ADITI  SINGH</td>\n",
       "      <td>NaN</td>\n",
       "    </tr>\n",
       "    <tr>\n",
       "      <th>3</th>\n",
       "      <td>1613101054</td>\n",
       "      <td>16SCSE101220</td>\n",
       "      <td>ADITYA  MANKAR</td>\n",
       "      <td>NaN</td>\n",
       "    </tr>\n",
       "    <tr>\n",
       "      <th>4</th>\n",
       "      <td>1613101079</td>\n",
       "      <td>16SCSE101085</td>\n",
       "      <td>AKASH  KANSAL</td>\n",
       "      <td>NaN</td>\n",
       "    </tr>\n",
       "  </tbody>\n",
       "</table>\n",
       "</div>"
      ],
      "text/plain": [
       "   enrollmentnumber          admn     studentname  studentEmail\n",
       "0        1613101016  16SCSE101757   AAYUSH  TYAGI           NaN\n",
       "1        1613101026  16SCSE101415        ABHISHEK           NaN\n",
       "2        1613101051  16SCSE101222    ADITI  SINGH           NaN\n",
       "3        1613101054  16SCSE101220  ADITYA  MANKAR           NaN\n",
       "4        1613101079  16SCSE101085   AKASH  KANSAL           NaN"
      ]
     },
     "execution_count": 3,
     "metadata": {},
     "output_type": "execute_result"
    }
   ],
   "source": [
    "stud_list= pd.read_csv('C:\\\\Users\\\\preethi\\\\.ipynb_checkpoints\\\\studentlist.csv')\n",
    "print(stud_list.shape)\n",
    "\n",
    "#sorted_studentlist = df.sort_values(by='studentname')\n",
    "stud_list.head()"
   ]
  },
  {
   "cell_type": "markdown",
   "metadata": {},
   "source": [
    "### READ BATCHWISE LIST"
   ]
  },
  {
   "cell_type": "code",
   "execution_count": 4,
   "metadata": {},
   "outputs": [
    {
     "name": "stdout",
     "output_type": "stream",
     "text": [
      "(1017, 5)\n"
     ]
    }
   ],
   "source": [
    "path = 'C:\\\\Users\\\\preethi\\\\.ipynb_checkpoints\\\\batchwiselist'\n",
    "read_files = glob.glob(os.path.join(path,'*.csv'))\n",
    "np_array_values = []\n",
    "for i in read_files:\n",
    "    batches = pd.read_csv(i)\n",
    "    np_array_values.append(batches)\n",
    "\n",
    "total_list = pd.concat(np_array_values)\n",
    "print(total_list.shape)"
   ]
  },
  {
   "cell_type": "markdown",
   "metadata": {},
   "source": [
    "### READING QUIZ FILE"
   ]
  },
  {
   "cell_type": "code",
   "execution_count": 5,
   "metadata": {},
   "outputs": [],
   "source": [
    "path = 'C:\\\\Users\\\\preethi\\\\.ipynb_checkpoints\\\\quiz'\n",
    "read_files = glob.glob(os.path.join(path,'*.csv'))\n",
    "quiz = []\n",
    "for i in read_files:\n",
    "    files = pd.read_csv(i)\n",
    "    quiz.append(files)\n",
    "    \n",
    "#defining csv of quiz 1 and quiz 2\n",
    "quiz1 = quiz[0]\n",
    "quiz2 = quiz[1]\n",
    "\n",
    "#merging the files\n",
    "bth_quiz = pd.concat(quiz)\n",
    "bth_quiz.head()\n",
    "quiz1.drop(columns=['ID number','Institution','Department','Email address'],inplace = True)\n",
    "quiz2.drop(columns=['ID number','Institution','Department','Email address'],inplace = True)"
   ]
  },
  {
   "cell_type": "code",
   "execution_count": 6,
   "metadata": {},
   "outputs": [
    {
     "name": "stdout",
     "output_type": "stream",
     "text": [
      "(660, 7)\n"
     ]
    },
    {
     "data": {
      "text/html": [
       "<div>\n",
       "<style scoped>\n",
       "    .dataframe tbody tr th:only-of-type {\n",
       "        vertical-align: middle;\n",
       "    }\n",
       "\n",
       "    .dataframe tbody tr th {\n",
       "        vertical-align: top;\n",
       "    }\n",
       "\n",
       "    .dataframe thead th {\n",
       "        text-align: right;\n",
       "    }\n",
       "</style>\n",
       "<table border=\"1\" class=\"dataframe\">\n",
       "  <thead>\n",
       "    <tr style=\"text-align: right;\">\n",
       "      <th></th>\n",
       "      <th>Surname</th>\n",
       "      <th>Firstname</th>\n",
       "      <th>State</th>\n",
       "      <th>Started on</th>\n",
       "      <th>Completed</th>\n",
       "      <th>Time taken</th>\n",
       "      <th>Grade/10.00</th>\n",
       "    </tr>\n",
       "  </thead>\n",
       "  <tbody>\n",
       "    <tr>\n",
       "      <th>0</th>\n",
       "      <td>16BTCSES11</td>\n",
       "      <td>SIDDHANT  GUPTA</td>\n",
       "      <td>Finished</td>\n",
       "      <td>08-02-2019 09:57</td>\n",
       "      <td>08-02-2019 10:11</td>\n",
       "      <td>14 mins 1 sec</td>\n",
       "      <td>4</td>\n",
       "    </tr>\n",
       "    <tr>\n",
       "      <th>1</th>\n",
       "      <td>16BTCSES11</td>\n",
       "      <td>ARPIT  SHARMA</td>\n",
       "      <td>Finished</td>\n",
       "      <td>08-02-2019 09:57</td>\n",
       "      <td>08-02-2019 10:11</td>\n",
       "      <td>14 mins 5 secs</td>\n",
       "      <td>5</td>\n",
       "    </tr>\n",
       "    <tr>\n",
       "      <th>2</th>\n",
       "      <td>16BTCSES11</td>\n",
       "      <td>VISHAL  SINGH</td>\n",
       "      <td>Finished</td>\n",
       "      <td>08-02-2019 09:57</td>\n",
       "      <td>14-02-2019 10:10</td>\n",
       "      <td>6 days</td>\n",
       "      <td>7</td>\n",
       "    </tr>\n",
       "  </tbody>\n",
       "</table>\n",
       "</div>"
      ],
      "text/plain": [
       "      Surname        Firstname     State        Started on         Completed  \\\n",
       "0  16BTCSES11  SIDDHANT  GUPTA  Finished  08-02-2019 09:57  08-02-2019 10:11   \n",
       "1  16BTCSES11    ARPIT  SHARMA  Finished  08-02-2019 09:57  08-02-2019 10:11   \n",
       "2  16BTCSES11    VISHAL  SINGH  Finished  08-02-2019 09:57  14-02-2019 10:10   \n",
       "\n",
       "       Time taken Grade/10.00  \n",
       "0   14 mins 1 sec           4  \n",
       "1  14 mins 5 secs           5  \n",
       "2          6 days           7  "
      ]
     },
     "execution_count": 6,
     "metadata": {},
     "output_type": "execute_result"
    }
   ],
   "source": [
    "print(quiz1.shape)\n",
    "quiz1.head(3)"
   ]
  },
  {
   "cell_type": "code",
   "execution_count": 7,
   "metadata": {},
   "outputs": [
    {
     "data": {
      "text/html": [
       "<div>\n",
       "<style scoped>\n",
       "    .dataframe tbody tr th:only-of-type {\n",
       "        vertical-align: middle;\n",
       "    }\n",
       "\n",
       "    .dataframe tbody tr th {\n",
       "        vertical-align: top;\n",
       "    }\n",
       "\n",
       "    .dataframe thead th {\n",
       "        text-align: right;\n",
       "    }\n",
       "</style>\n",
       "<table border=\"1\" class=\"dataframe\">\n",
       "  <thead>\n",
       "    <tr style=\"text-align: right;\">\n",
       "      <th></th>\n",
       "      <th>noofpresent</th>\n",
       "      <th>lessthan50</th>\n",
       "      <th>between50and60</th>\n",
       "      <th>between60and70</th>\n",
       "      <th>between70and80</th>\n",
       "      <th>greaterthan80</th>\n",
       "    </tr>\n",
       "  </thead>\n",
       "  <tbody>\n",
       "    <tr>\n",
       "      <th>Quiz1</th>\n",
       "      <td>NaN</td>\n",
       "      <td>NaN</td>\n",
       "      <td>NaN</td>\n",
       "      <td>NaN</td>\n",
       "      <td>NaN</td>\n",
       "      <td>NaN</td>\n",
       "    </tr>\n",
       "    <tr>\n",
       "      <th>Quiz2</th>\n",
       "      <td>NaN</td>\n",
       "      <td>NaN</td>\n",
       "      <td>NaN</td>\n",
       "      <td>NaN</td>\n",
       "      <td>NaN</td>\n",
       "      <td>NaN</td>\n",
       "    </tr>\n",
       "  </tbody>\n",
       "</table>\n",
       "</div>"
      ],
      "text/plain": [
       "      noofpresent lessthan50 between50and60 between60and70 between70and80  \\\n",
       "Quiz1         NaN        NaN            NaN            NaN            NaN   \n",
       "Quiz2         NaN        NaN            NaN            NaN            NaN   \n",
       "\n",
       "      greaterthan80  \n",
       "Quiz1           NaN  \n",
       "Quiz2           NaN  "
      ]
     },
     "execution_count": 7,
     "metadata": {},
     "output_type": "execute_result"
    }
   ],
   "source": [
    "statistic_df = pd.DataFrame(columns = [\"noofpresent\", \"lessthan50\", \"between50and60\", \n",
    "                                       \"between60and70\", \"between70and80\", \"greaterthan80\"],\n",
    "                                        index = ['Quiz1','Quiz2'])\n",
    "statistic_df"
   ]
  },
  {
   "cell_type": "code",
   "execution_count": 8,
   "metadata": {},
   "outputs": [],
   "source": [
    "quiz1['Firstname'] = quiz1['Firstname'].dropna()\n",
    "quiz2['Firstname'] = quiz2['Firstname'].dropna()\n",
    "                                        "
   ]
  },
  {
   "cell_type": "code",
   "execution_count": 10,
   "metadata": {},
   "outputs": [
    {
     "data": {
      "text/plain": [
       "array(['4', '5', '7', '9', '1', '6', '8', '10', '3', '2', '0', '-', '7.4'],\n",
       "      dtype=object)"
      ]
     },
     "execution_count": 10,
     "metadata": {},
     "output_type": "execute_result"
    }
   ],
   "source": [
    "quiz1['Grade/10.00'].unique()"
   ]
  },
  {
   "cell_type": "code",
   "execution_count": 11,
   "metadata": {},
   "outputs": [],
   "source": [
    "quiz1[\"Grade/10.00\"] = quiz1[\"Grade/10.00\"].str.replace('-','0')\n",
    "quiz2[\"Grade/10.00\"] = quiz2[\"Grade/10.00\"].str.replace('-','0')"
   ]
  },
  {
   "cell_type": "code",
   "execution_count": 12,
   "metadata": {},
   "outputs": [],
   "source": [
    "quiz1[\"Grade/10.00\"] = quiz1[\"Grade/10.00\"].apply(pd.to_numeric)\n",
    "quiz2[\"Grade/10.00\"] = quiz2[\"Grade/10.00\"].apply(pd.to_numeric)"
   ]
  },
  {
   "cell_type": "code",
   "execution_count": 15,
   "metadata": {},
   "outputs": [
    {
     "data": {
      "text/plain": [
       "numpy.float64"
      ]
     },
     "execution_count": 15,
     "metadata": {},
     "output_type": "execute_result"
    }
   ],
   "source": [
    "type(quiz1['Grade/10.00'][0])"
   ]
  },
  {
   "cell_type": "code",
   "execution_count": 17,
   "metadata": {},
   "outputs": [
    {
     "data": {
      "text/plain": [
       "93"
      ]
     },
     "execution_count": 17,
     "metadata": {},
     "output_type": "execute_result"
    }
   ],
   "source": [
    "quiz1[quiz1['Grade/10.00'] < 5]['Firstname'].count()   # 127\n",
    "quiz2[quiz2['Grade/10.00'] < 5]['Firstname'].count()    #93"
   ]
  },
  {
   "cell_type": "code",
   "execution_count": 18,
   "metadata": {},
   "outputs": [
    {
     "data": {
      "text/plain": [
       "Surname        660\n",
       "Firstname      659\n",
       "State          659\n",
       "Started on     659\n",
       "Completed      659\n",
       "Time taken     659\n",
       "Grade/10.00    660\n",
       "dtype: int64"
      ]
     },
     "execution_count": 18,
     "metadata": {},
     "output_type": "execute_result"
    }
   ],
   "source": [
    "quiz1.count()"
   ]
  },
  {
   "cell_type": "code",
   "execution_count": 19,
   "metadata": {},
   "outputs": [],
   "source": [
    "statistic_df['noofpresent'] = [quiz1['Firstname'].count(),quiz2['Firstname'].count()]\n",
    "statistic_df['lessthan50'] = [quiz1[quiz1['Grade/10.00'].between(0,4.9, inclusive=True)]['Firstname'].count(),\n",
    "                               quiz2[quiz2['Grade/10.00'].between(0,4.9)]['Firstname'].count()]\n",
    "statistic_df['between50and60'] = [quiz1[quiz1['Grade/10.00'].between(5,5.9,inclusive = True)]['Firstname'].count(),\n",
    "                                 quiz2[quiz2['Grade/10.00'].between(5,5.9)]['Firstname'].count()]\n",
    "statistic_df['between60and70'] = [quiz1[quiz1['Grade/10.00'].between(6,6.9,inclusive = True)]['Firstname'].count(),\n",
    "                                 quiz2[quiz2['Grade/10.00'].between(6,6.9)]['Firstname'].count()]\n",
    "statistic_df['between70and80'] = [quiz1[quiz1['Grade/10.00'].between(7,7.9,inclusive = True)]['Firstname'].count(),\n",
    "                                 quiz2[quiz2['Grade/10.00'].between(7,7.9)]['Firstname'].count()]\n",
    "statistic_df['greaterthan80'] = [quiz1[quiz1['Grade/10.00'].between(8,10,inclusive = True)]['Firstname'].count(),\n",
    "                                quiz2[quiz2['Grade/10.00'].between(8,10)]['Firstname'].count()]"
   ]
  },
  {
   "cell_type": "code",
   "execution_count": 20,
   "metadata": {},
   "outputs": [
    {
     "data": {
      "text/html": [
       "<div>\n",
       "<style scoped>\n",
       "    .dataframe tbody tr th:only-of-type {\n",
       "        vertical-align: middle;\n",
       "    }\n",
       "\n",
       "    .dataframe tbody tr th {\n",
       "        vertical-align: top;\n",
       "    }\n",
       "\n",
       "    .dataframe thead th {\n",
       "        text-align: right;\n",
       "    }\n",
       "</style>\n",
       "<table border=\"1\" class=\"dataframe\">\n",
       "  <thead>\n",
       "    <tr style=\"text-align: right;\">\n",
       "      <th></th>\n",
       "      <th>noofpresent</th>\n",
       "      <th>lessthan50</th>\n",
       "      <th>between50and60</th>\n",
       "      <th>between60and70</th>\n",
       "      <th>between70and80</th>\n",
       "      <th>greaterthan80</th>\n",
       "    </tr>\n",
       "  </thead>\n",
       "  <tbody>\n",
       "    <tr>\n",
       "      <th>Quiz1</th>\n",
       "      <td>659</td>\n",
       "      <td>127</td>\n",
       "      <td>69</td>\n",
       "      <td>57</td>\n",
       "      <td>58</td>\n",
       "      <td>348</td>\n",
       "    </tr>\n",
       "    <tr>\n",
       "      <th>Quiz2</th>\n",
       "      <td>680</td>\n",
       "      <td>93</td>\n",
       "      <td>40</td>\n",
       "      <td>39</td>\n",
       "      <td>41</td>\n",
       "      <td>467</td>\n",
       "    </tr>\n",
       "  </tbody>\n",
       "</table>\n",
       "</div>"
      ],
      "text/plain": [
       "       noofpresent  lessthan50  between50and60  between60and70  \\\n",
       "Quiz1          659         127              69              57   \n",
       "Quiz2          680          93              40              39   \n",
       "\n",
       "       between70and80  greaterthan80  \n",
       "Quiz1              58            348  \n",
       "Quiz2              41            467  "
      ]
     },
     "execution_count": 20,
     "metadata": {},
     "output_type": "execute_result"
    }
   ],
   "source": [
    "statistic_df"
   ]
  },
  {
   "cell_type": "code",
   "execution_count": null,
   "metadata": {},
   "outputs": [],
   "source": []
  },
  {
   "cell_type": "code",
   "execution_count": 38,
   "metadata": {},
   "outputs": [
    {
     "name": "stdout",
     "output_type": "stream",
     "text": [
      "C:\\Users\\preethi\\.ipynb_checkpoints\\batchwiselist\\1.csv\n"
     ]
    }
   ],
   "source": [
    "path = 'C:\\\\Users\\\\preethi\\\\.ipynb_checkpoints\\\\batchwiselist'\n",
    "read_files = glob.glob(os.path.join(path,'*.csv'))\n",
    "print(read_files[0])\n",
    "\n",
    "file = []\n",
    "\n",
    "for i in read_files:\n",
    "    df = pd.read_csv(i)\n",
    "    file.append(df)\n",
    "#print(file[0])"
   ]
  },
  {
   "cell_type": "code",
   "execution_count": 27,
   "metadata": {},
   "outputs": [
    {
     "name": "stdout",
     "output_type": "stream",
     "text": [
      "(1017, 11)\n",
      "(1017, 11)\n"
     ]
    }
   ],
   "source": [
    "quiz_1 = pd.merge(quiz1, stud_list , left_on='Firstname',right_on = 'studentname',how='right' )\n",
    "quiz_2 = pd.merge(quiz2 , stud_list , left_on = 'Firstname', right_on = 'studentname',  how = 'right')\n",
    "print(quiz_1.shape)\n",
    "print(quiz_2.shape)"
   ]
  },
  {
   "cell_type": "code",
   "execution_count": 43,
   "metadata": {},
   "outputs": [
    {
     "data": {
      "text/html": [
       "<div>\n",
       "<style scoped>\n",
       "    .dataframe tbody tr th:only-of-type {\n",
       "        vertical-align: middle;\n",
       "    }\n",
       "\n",
       "    .dataframe tbody tr th {\n",
       "        vertical-align: top;\n",
       "    }\n",
       "\n",
       "    .dataframe thead th {\n",
       "        text-align: right;\n",
       "    }\n",
       "</style>\n",
       "<table border=\"1\" class=\"dataframe\">\n",
       "  <thead>\n",
       "    <tr style=\"text-align: right;\">\n",
       "      <th></th>\n",
       "      <th>Surname</th>\n",
       "      <th>Firstname</th>\n",
       "      <th>State</th>\n",
       "      <th>Started on</th>\n",
       "      <th>Completed</th>\n",
       "      <th>Time taken</th>\n",
       "      <th>Grade/10.00</th>\n",
       "      <th>enrollmentnumber</th>\n",
       "      <th>admn</th>\n",
       "      <th>studentname</th>\n",
       "      <th>studentEmail</th>\n",
       "    </tr>\n",
       "  </thead>\n",
       "  <tbody>\n",
       "    <tr>\n",
       "      <th>0</th>\n",
       "      <td>16BTCSES11</td>\n",
       "      <td>SIDDHANT  GUPTA</td>\n",
       "      <td>Finished</td>\n",
       "      <td>08-02-2019 09:57</td>\n",
       "      <td>08-02-2019 10:11</td>\n",
       "      <td>14 mins 1 sec</td>\n",
       "      <td>4.0</td>\n",
       "      <td>1613101735</td>\n",
       "      <td>16SCSE101546</td>\n",
       "      <td>SIDDHANT  GUPTA</td>\n",
       "      <td>NaN</td>\n",
       "    </tr>\n",
       "    <tr>\n",
       "      <th>1</th>\n",
       "      <td>16BTCSES11</td>\n",
       "      <td>ARPIT  SHARMA</td>\n",
       "      <td>Finished</td>\n",
       "      <td>08-02-2019 09:57</td>\n",
       "      <td>08-02-2019 10:11</td>\n",
       "      <td>14 mins 5 secs</td>\n",
       "      <td>5.0</td>\n",
       "      <td>1613101180</td>\n",
       "      <td>16SCSE101043</td>\n",
       "      <td>ARPIT  SHARMA</td>\n",
       "      <td>NaN</td>\n",
       "    </tr>\n",
       "  </tbody>\n",
       "</table>\n",
       "</div>"
      ],
      "text/plain": [
       "      Surname        Firstname     State        Started on         Completed  \\\n",
       "0  16BTCSES11  SIDDHANT  GUPTA  Finished  08-02-2019 09:57  08-02-2019 10:11   \n",
       "1  16BTCSES11    ARPIT  SHARMA  Finished  08-02-2019 09:57  08-02-2019 10:11   \n",
       "\n",
       "       Time taken  Grade/10.00  enrollmentnumber          admn  \\\n",
       "0   14 mins 1 sec          4.0        1613101735  16SCSE101546   \n",
       "1  14 mins 5 secs          5.0        1613101180  16SCSE101043   \n",
       "\n",
       "       studentname  studentEmail  \n",
       "0  SIDDHANT  GUPTA           NaN  \n",
       "1    ARPIT  SHARMA           NaN  "
      ]
     },
     "execution_count": 43,
     "metadata": {},
     "output_type": "execute_result"
    }
   ],
   "source": [
    "quiz_1.head(2)"
   ]
  },
  {
   "cell_type": "code",
   "execution_count": 31,
   "metadata": {},
   "outputs": [
    {
     "data": {
      "text/plain": [
       "array([ 4.,  5.,  7.,  9.,  1.,  6.,  8., 10.,  3.,  2.,  0., nan])"
      ]
     },
     "execution_count": 31,
     "metadata": {},
     "output_type": "execute_result"
    }
   ],
   "source": [
    "quiz_1['Grade/10.00'].unique()"
   ]
  },
  {
   "cell_type": "code",
   "execution_count": 32,
   "metadata": {},
   "outputs": [
    {
     "data": {
      "text/plain": [
       "array([ 4., 10.,  3.,  9.,  0.,  5.,  7.,  6.,  2.,  1.,  8., nan])"
      ]
     },
     "execution_count": 32,
     "metadata": {},
     "output_type": "execute_result"
    }
   ],
   "source": [
    "quiz_2['Grade/10.00'].unique()"
   ]
  },
  {
   "cell_type": "code",
   "execution_count": 33,
   "metadata": {},
   "outputs": [],
   "source": [
    "quiz_1['Grade/10.00'] = quiz_1['Grade/10.00'].fillna(0)\n",
    "quiz_2['Grade/10.00'] = quiz_2['Grade/10.00'].fillna(0)"
   ]
  },
  {
   "cell_type": "code",
   "execution_count": 49,
   "metadata": {},
   "outputs": [
    {
     "name": "stdout",
     "output_type": "stream",
     "text": [
      "1017\n",
      "63\n"
     ]
    }
   ],
   "source": [
    "print(quiz_1['studentname'].count())\n",
    "print(file[0]['studentName'].count())"
   ]
  },
  {
   "cell_type": "code",
   "execution_count": 54,
   "metadata": {},
   "outputs": [
    {
     "name": "stdout",
     "output_type": "stream",
     "text": [
      "(63, 16)\n",
      "(63, 16)\n"
     ]
    },
    {
     "data": {
      "text/html": [
       "<div>\n",
       "<style scoped>\n",
       "    .dataframe tbody tr th:only-of-type {\n",
       "        vertical-align: middle;\n",
       "    }\n",
       "\n",
       "    .dataframe tbody tr th {\n",
       "        vertical-align: top;\n",
       "    }\n",
       "\n",
       "    .dataframe thead th {\n",
       "        text-align: right;\n",
       "    }\n",
       "</style>\n",
       "<table border=\"1\" class=\"dataframe\">\n",
       "  <thead>\n",
       "    <tr style=\"text-align: right;\">\n",
       "      <th></th>\n",
       "      <th>Unnamed: 0</th>\n",
       "      <th>srNo</th>\n",
       "      <th>enrollmentNumber</th>\n",
       "      <th>admissionNumber</th>\n",
       "      <th>studentName</th>\n",
       "      <th>Surname</th>\n",
       "      <th>Firstname</th>\n",
       "      <th>State</th>\n",
       "      <th>Started on</th>\n",
       "      <th>Completed</th>\n",
       "      <th>Time taken</th>\n",
       "      <th>Grade/10.00</th>\n",
       "      <th>enrollmentnumber</th>\n",
       "      <th>admn</th>\n",
       "      <th>studentname</th>\n",
       "      <th>studentEmail</th>\n",
       "    </tr>\n",
       "  </thead>\n",
       "  <tbody>\n",
       "    <tr>\n",
       "      <th>0</th>\n",
       "      <td>0</td>\n",
       "      <td>1</td>\n",
       "      <td>1613101016</td>\n",
       "      <td>16SCSE101757</td>\n",
       "      <td>AAYUSH  TYAGI</td>\n",
       "      <td>16BTCSES1</td>\n",
       "      <td>AAYUSH  TYAGI</td>\n",
       "      <td>Finished</td>\n",
       "      <td>12-03-2019 14:50</td>\n",
       "      <td>12-03-2019 14:54</td>\n",
       "      <td>3 mins 11 secs</td>\n",
       "      <td>10.0</td>\n",
       "      <td>1613101016</td>\n",
       "      <td>16SCSE101757</td>\n",
       "      <td>AAYUSH  TYAGI</td>\n",
       "      <td>NaN</td>\n",
       "    </tr>\n",
       "    <tr>\n",
       "      <th>1</th>\n",
       "      <td>1</td>\n",
       "      <td>2</td>\n",
       "      <td>1613101026</td>\n",
       "      <td>16SCSE101415</td>\n",
       "      <td>ABHISHEK</td>\n",
       "      <td>16BTCSES1</td>\n",
       "      <td>ABHISHEK</td>\n",
       "      <td>Finished</td>\n",
       "      <td>12-03-2019 14:48</td>\n",
       "      <td>12-03-2019 15:06</td>\n",
       "      <td>17 mins 58 secs</td>\n",
       "      <td>10.0</td>\n",
       "      <td>1613101026</td>\n",
       "      <td>16SCSE101415</td>\n",
       "      <td>ABHISHEK</td>\n",
       "      <td>NaN</td>\n",
       "    </tr>\n",
       "    <tr>\n",
       "      <th>2</th>\n",
       "      <td>2</td>\n",
       "      <td>3</td>\n",
       "      <td>1613101051</td>\n",
       "      <td>16SCSE101222</td>\n",
       "      <td>ADITI  SINGH</td>\n",
       "      <td>16BTCSES1</td>\n",
       "      <td>ADITI  SINGH</td>\n",
       "      <td>Finished</td>\n",
       "      <td>12-03-2019 14:49</td>\n",
       "      <td>12-03-2019 15:03</td>\n",
       "      <td>13 mins 35 secs</td>\n",
       "      <td>9.0</td>\n",
       "      <td>1613101051</td>\n",
       "      <td>16SCSE101222</td>\n",
       "      <td>ADITI  SINGH</td>\n",
       "      <td>NaN</td>\n",
       "    </tr>\n",
       "  </tbody>\n",
       "</table>\n",
       "</div>"
      ],
      "text/plain": [
       "   Unnamed: 0  srNo  enrollmentNumber admissionNumber    studentName  \\\n",
       "0           0     1        1613101016    16SCSE101757  AAYUSH  TYAGI   \n",
       "1           1     2        1613101026    16SCSE101415       ABHISHEK   \n",
       "2           2     3        1613101051    16SCSE101222   ADITI  SINGH   \n",
       "\n",
       "     Surname      Firstname     State        Started on         Completed  \\\n",
       "0  16BTCSES1  AAYUSH  TYAGI  Finished  12-03-2019 14:50  12-03-2019 14:54   \n",
       "1  16BTCSES1       ABHISHEK  Finished  12-03-2019 14:48  12-03-2019 15:06   \n",
       "2  16BTCSES1   ADITI  SINGH  Finished  12-03-2019 14:49  12-03-2019 15:03   \n",
       "\n",
       "        Time taken  Grade/10.00  enrollmentnumber          admn  \\\n",
       "0   3 mins 11 secs         10.0        1613101016  16SCSE101757   \n",
       "1  17 mins 58 secs         10.0        1613101026  16SCSE101415   \n",
       "2  13 mins 35 secs          9.0        1613101051  16SCSE101222   \n",
       "\n",
       "     studentname  studentEmail  \n",
       "0  AAYUSH  TYAGI           NaN  \n",
       "1       ABHISHEK           NaN  \n",
       "2   ADITI  SINGH           NaN  "
      ]
     },
     "execution_count": 54,
     "metadata": {},
     "output_type": "execute_result"
    }
   ],
   "source": [
    "n = 18    #there are 18 csv files in batchwise folder\n",
    "batch_quiz1 = []\n",
    "for i in range(n+1):\n",
    "    quizz = pd.merge(file[i] , quiz_1 , left_on = 'studentName', right_on = 'studentname' ,how = 'left' )\n",
    "    batch_quiz1.append(quizz)\n",
    "    \n",
    "print(batch_quiz1[0].shape)\n",
    "batch_quiz1[0].head(3)\n",
    "\n",
    "batch_quiz2 = []\n",
    "for i in range(n+1):\n",
    "    quizz = pd.merge(file[i] , quiz_2 , left_on = 'studentName' , right_on = 'studentname' , how='left')\n",
    "    batch_quiz2.append(quizz)\n",
    "    \n",
    "print(batch_quiz2[0].shape)\n",
    "batch_quiz2[0].head(3)"
   ]
  },
  {
   "cell_type": "code",
   "execution_count": 55,
   "metadata": {},
   "outputs": [
    {
     "data": {
      "text/html": [
       "<div>\n",
       "<style scoped>\n",
       "    .dataframe tbody tr th:only-of-type {\n",
       "        vertical-align: middle;\n",
       "    }\n",
       "\n",
       "    .dataframe tbody tr th {\n",
       "        vertical-align: top;\n",
       "    }\n",
       "\n",
       "    .dataframe thead th {\n",
       "        text-align: right;\n",
       "    }\n",
       "</style>\n",
       "<table border=\"1\" class=\"dataframe\">\n",
       "  <thead>\n",
       "    <tr style=\"text-align: right;\">\n",
       "      <th></th>\n",
       "      <th>noofpresent</th>\n",
       "      <th>lessthan50</th>\n",
       "      <th>between50and60</th>\n",
       "      <th>between60and70</th>\n",
       "      <th>between70and80</th>\n",
       "      <th>greaterthan80</th>\n",
       "    </tr>\n",
       "  </thead>\n",
       "  <tbody>\n",
       "    <tr>\n",
       "      <th>Quiz_1</th>\n",
       "      <td>NaN</td>\n",
       "      <td>NaN</td>\n",
       "      <td>NaN</td>\n",
       "      <td>NaN</td>\n",
       "      <td>NaN</td>\n",
       "      <td>NaN</td>\n",
       "    </tr>\n",
       "    <tr>\n",
       "      <th>Quiz_2</th>\n",
       "      <td>NaN</td>\n",
       "      <td>NaN</td>\n",
       "      <td>NaN</td>\n",
       "      <td>NaN</td>\n",
       "      <td>NaN</td>\n",
       "      <td>NaN</td>\n",
       "    </tr>\n",
       "  </tbody>\n",
       "</table>\n",
       "</div>"
      ],
      "text/plain": [
       "       noofpresent lessthan50 between50and60 between60and70 between70and80  \\\n",
       "Quiz_1         NaN        NaN            NaN            NaN            NaN   \n",
       "Quiz_2         NaN        NaN            NaN            NaN            NaN   \n",
       "\n",
       "       greaterthan80  \n",
       "Quiz_1           NaN  \n",
       "Quiz_2           NaN  "
      ]
     },
     "execution_count": 55,
     "metadata": {},
     "output_type": "execute_result"
    }
   ],
   "source": [
    "final = pd.DataFrame(columns = [\"noofpresent\", \"lessthan50\", \"between50and60\", \n",
    "                                \"between60and70\", \"between70and80\", \"greaterthan80\"],\n",
    "                                index = ['Quiz_1','Quiz_2'])\n",
    "final"
   ]
  },
  {
   "cell_type": "code",
   "execution_count": 56,
   "metadata": {},
   "outputs": [
    {
     "data": {
      "text/html": [
       "<div>\n",
       "<style scoped>\n",
       "    .dataframe tbody tr th:only-of-type {\n",
       "        vertical-align: middle;\n",
       "    }\n",
       "\n",
       "    .dataframe tbody tr th {\n",
       "        vertical-align: top;\n",
       "    }\n",
       "\n",
       "    .dataframe thead th {\n",
       "        text-align: right;\n",
       "    }\n",
       "</style>\n",
       "<table border=\"1\" class=\"dataframe\">\n",
       "  <thead>\n",
       "    <tr style=\"text-align: right;\">\n",
       "      <th></th>\n",
       "      <th>Unnamed: 0</th>\n",
       "      <th>srNo</th>\n",
       "      <th>enrollmentNumber</th>\n",
       "      <th>admissionNumber</th>\n",
       "      <th>studentName</th>\n",
       "      <th>Surname</th>\n",
       "      <th>Firstname</th>\n",
       "      <th>State</th>\n",
       "      <th>Started on</th>\n",
       "      <th>Completed</th>\n",
       "      <th>Time taken</th>\n",
       "      <th>Grade/10.00</th>\n",
       "      <th>enrollmentnumber</th>\n",
       "      <th>admn</th>\n",
       "      <th>studentname</th>\n",
       "      <th>studentEmail</th>\n",
       "    </tr>\n",
       "  </thead>\n",
       "  <tbody>\n",
       "    <tr>\n",
       "      <th>0</th>\n",
       "      <td>0</td>\n",
       "      <td>1</td>\n",
       "      <td>1613101016</td>\n",
       "      <td>16SCSE101757</td>\n",
       "      <td>AAYUSH  TYAGI</td>\n",
       "      <td>16BTCSES1</td>\n",
       "      <td>AAYUSH  TYAGI</td>\n",
       "      <td>Finished</td>\n",
       "      <td>08-02-2019 15:59</td>\n",
       "      <td>08-02-2019 16:06</td>\n",
       "      <td>7 mins 14 secs</td>\n",
       "      <td>5.0</td>\n",
       "      <td>1613101016</td>\n",
       "      <td>16SCSE101757</td>\n",
       "      <td>AAYUSH  TYAGI</td>\n",
       "      <td>NaN</td>\n",
       "    </tr>\n",
       "    <tr>\n",
       "      <th>1</th>\n",
       "      <td>1</td>\n",
       "      <td>2</td>\n",
       "      <td>1613101026</td>\n",
       "      <td>16SCSE101415</td>\n",
       "      <td>ABHISHEK</td>\n",
       "      <td>16BTCSES1</td>\n",
       "      <td>ABHISHEK</td>\n",
       "      <td>Finished</td>\n",
       "      <td>08-02-2019 16:06</td>\n",
       "      <td>08-02-2019 16:22</td>\n",
       "      <td>15 mins 41 secs</td>\n",
       "      <td>7.0</td>\n",
       "      <td>1613101026</td>\n",
       "      <td>16SCSE101415</td>\n",
       "      <td>ABHISHEK</td>\n",
       "      <td>NaN</td>\n",
       "    </tr>\n",
       "  </tbody>\n",
       "</table>\n",
       "</div>"
      ],
      "text/plain": [
       "   Unnamed: 0  srNo  enrollmentNumber admissionNumber    studentName  \\\n",
       "0           0     1        1613101016    16SCSE101757  AAYUSH  TYAGI   \n",
       "1           1     2        1613101026    16SCSE101415       ABHISHEK   \n",
       "\n",
       "     Surname      Firstname     State        Started on         Completed  \\\n",
       "0  16BTCSES1  AAYUSH  TYAGI  Finished  08-02-2019 15:59  08-02-2019 16:06   \n",
       "1  16BTCSES1       ABHISHEK  Finished  08-02-2019 16:06  08-02-2019 16:22   \n",
       "\n",
       "        Time taken  Grade/10.00  enrollmentnumber          admn  \\\n",
       "0   7 mins 14 secs          5.0        1613101016  16SCSE101757   \n",
       "1  15 mins 41 secs          7.0        1613101026  16SCSE101415   \n",
       "\n",
       "     studentname  studentEmail  \n",
       "0  AAYUSH  TYAGI           NaN  \n",
       "1       ABHISHEK           NaN  "
      ]
     },
     "execution_count": 56,
     "metadata": {},
     "output_type": "execute_result"
    }
   ],
   "source": [
    "batch_quiz1[0].head(2)"
   ]
  },
  {
   "cell_type": "code",
   "execution_count": 57,
   "metadata": {},
   "outputs": [
    {
     "data": {
      "text/html": [
       "<div>\n",
       "<style scoped>\n",
       "    .dataframe tbody tr th:only-of-type {\n",
       "        vertical-align: middle;\n",
       "    }\n",
       "\n",
       "    .dataframe tbody tr th {\n",
       "        vertical-align: top;\n",
       "    }\n",
       "\n",
       "    .dataframe thead th {\n",
       "        text-align: right;\n",
       "    }\n",
       "</style>\n",
       "<table border=\"1\" class=\"dataframe\">\n",
       "  <thead>\n",
       "    <tr style=\"text-align: right;\">\n",
       "      <th></th>\n",
       "      <th>Unnamed: 0</th>\n",
       "      <th>srNo</th>\n",
       "      <th>enrollmentNumber</th>\n",
       "      <th>admissionNumber</th>\n",
       "      <th>studentName</th>\n",
       "      <th>Surname</th>\n",
       "      <th>Firstname</th>\n",
       "      <th>State</th>\n",
       "      <th>Started on</th>\n",
       "      <th>Completed</th>\n",
       "      <th>Time taken</th>\n",
       "      <th>Grade/10.00</th>\n",
       "      <th>enrollmentnumber</th>\n",
       "      <th>admn</th>\n",
       "      <th>studentname</th>\n",
       "      <th>studentEmail</th>\n",
       "    </tr>\n",
       "  </thead>\n",
       "  <tbody>\n",
       "    <tr>\n",
       "      <th>0</th>\n",
       "      <td>0</td>\n",
       "      <td>1</td>\n",
       "      <td>1613101016</td>\n",
       "      <td>16SCSE101757</td>\n",
       "      <td>AAYUSH  TYAGI</td>\n",
       "      <td>16BTCSES1</td>\n",
       "      <td>AAYUSH  TYAGI</td>\n",
       "      <td>Finished</td>\n",
       "      <td>12-03-2019 14:50</td>\n",
       "      <td>12-03-2019 14:54</td>\n",
       "      <td>3 mins 11 secs</td>\n",
       "      <td>10.0</td>\n",
       "      <td>1613101016</td>\n",
       "      <td>16SCSE101757</td>\n",
       "      <td>AAYUSH  TYAGI</td>\n",
       "      <td>NaN</td>\n",
       "    </tr>\n",
       "    <tr>\n",
       "      <th>1</th>\n",
       "      <td>1</td>\n",
       "      <td>2</td>\n",
       "      <td>1613101026</td>\n",
       "      <td>16SCSE101415</td>\n",
       "      <td>ABHISHEK</td>\n",
       "      <td>16BTCSES1</td>\n",
       "      <td>ABHISHEK</td>\n",
       "      <td>Finished</td>\n",
       "      <td>12-03-2019 14:48</td>\n",
       "      <td>12-03-2019 15:06</td>\n",
       "      <td>17 mins 58 secs</td>\n",
       "      <td>10.0</td>\n",
       "      <td>1613101026</td>\n",
       "      <td>16SCSE101415</td>\n",
       "      <td>ABHISHEK</td>\n",
       "      <td>NaN</td>\n",
       "    </tr>\n",
       "  </tbody>\n",
       "</table>\n",
       "</div>"
      ],
      "text/plain": [
       "   Unnamed: 0  srNo  enrollmentNumber admissionNumber    studentName  \\\n",
       "0           0     1        1613101016    16SCSE101757  AAYUSH  TYAGI   \n",
       "1           1     2        1613101026    16SCSE101415       ABHISHEK   \n",
       "\n",
       "     Surname      Firstname     State        Started on         Completed  \\\n",
       "0  16BTCSES1  AAYUSH  TYAGI  Finished  12-03-2019 14:50  12-03-2019 14:54   \n",
       "1  16BTCSES1       ABHISHEK  Finished  12-03-2019 14:48  12-03-2019 15:06   \n",
       "\n",
       "        Time taken  Grade/10.00  enrollmentnumber          admn  \\\n",
       "0   3 mins 11 secs         10.0        1613101016  16SCSE101757   \n",
       "1  17 mins 58 secs         10.0        1613101026  16SCSE101415   \n",
       "\n",
       "     studentname  studentEmail  \n",
       "0  AAYUSH  TYAGI           NaN  \n",
       "1       ABHISHEK           NaN  "
      ]
     },
     "execution_count": 57,
     "metadata": {},
     "output_type": "execute_result"
    }
   ],
   "source": [
    "batch_quiz2[0].head(2)"
   ]
  },
  {
   "cell_type": "code",
   "execution_count": 70,
   "metadata": {},
   "outputs": [
    {
     "data": {
      "text/html": [
       "<div>\n",
       "<style scoped>\n",
       "    .dataframe tbody tr th:only-of-type {\n",
       "        vertical-align: middle;\n",
       "    }\n",
       "\n",
       "    .dataframe tbody tr th {\n",
       "        vertical-align: top;\n",
       "    }\n",
       "\n",
       "    .dataframe thead th {\n",
       "        text-align: right;\n",
       "    }\n",
       "</style>\n",
       "<table border=\"1\" class=\"dataframe\">\n",
       "  <thead>\n",
       "    <tr style=\"text-align: right;\">\n",
       "      <th></th>\n",
       "      <th>noofpresent</th>\n",
       "      <th>lessthan50</th>\n",
       "      <th>between50and60</th>\n",
       "      <th>between60and70</th>\n",
       "      <th>between70and80</th>\n",
       "      <th>greaterthan80</th>\n",
       "    </tr>\n",
       "  </thead>\n",
       "  <tbody>\n",
       "    <tr>\n",
       "      <th>Quiz_1</th>\n",
       "      <td>39</td>\n",
       "      <td>23</td>\n",
       "      <td>3</td>\n",
       "      <td>0</td>\n",
       "      <td>4</td>\n",
       "      <td>9</td>\n",
       "    </tr>\n",
       "    <tr>\n",
       "      <th>Quiz_2</th>\n",
       "      <td>39</td>\n",
       "      <td>29</td>\n",
       "      <td>2</td>\n",
       "      <td>1</td>\n",
       "      <td>2</td>\n",
       "      <td>5</td>\n",
       "    </tr>\n",
       "  </tbody>\n",
       "</table>\n",
       "</div>"
      ],
      "text/plain": [
       "        noofpresent  lessthan50  between50and60  between60and70  \\\n",
       "Quiz_1           39          23               3               0   \n",
       "Quiz_2           39          29               2               1   \n",
       "\n",
       "        between70and80  greaterthan80  \n",
       "Quiz_1               4              9  \n",
       "Quiz_2               2              5  "
      ]
     },
     "execution_count": 70,
     "metadata": {},
     "output_type": "execute_result"
    }
   ],
   "source": [
    "result = []\n",
    "for i in range(n+1):\n",
    "    final['noofpresent'] = [batch_quiz1[i]['studentname'].count() , batch_quiz2[i]['studentName'].count()]\n",
    "    final['lessthan50'] =[batch_quiz1[i][batch_quiz1[i]['Grade/10.00'].between(0,4.9,inclusive = True)]['studentName'].count() ,\n",
    "                          batch_quiz2[i][batch_quiz2[i]['Grade/10.00'].between(0,4.9,inclusive = True)]['studentName'].count()]\n",
    "    final['between50and60'] = [batch_quiz1[i][batch_quiz1[i]['Grade/10.00'].between(5,5.9, inclusive = True)]['studentName'].count(),\n",
    "                              batch_quiz2[i][batch_quiz2[i]['Grade/10.00'].between(5,5.9 , inclusive = True)]['studentName'].count()]\n",
    "    final['between60and70'] = [batch_quiz1[i][batch_quiz1[i]['Grade/10.00'].between(6,6.9, inclusive = True)]['studentName'].count(),\n",
    "                              batch_quiz2[i][batch_quiz2[i]['Grade/10.00'].between(6,6.9 , inclusive = True)]['studentName'].count()]\n",
    "    final['between70and80'] = [batch_quiz1[i][batch_quiz1[i]['Grade/10.00'].between(7,7.9, inclusive = True)]['studentName'].count(),\n",
    "                              batch_quiz2[i][batch_quiz2[i]['Grade/10.00'].between(7,7.9 , inclusive = True)]['studentName'].count()]\n",
    "    final['greaterthan80'] =  [batch_quiz1[i][batch_quiz1[i]['Grade/10.00'].between(8,10, inclusive = True)]['studentName'].count(),\n",
    "                              batch_quiz2[i][batch_quiz2[i]['Grade/10.00'].between(8,10 , inclusive = True)]['studentName'].count()]\n",
    "    result.append(final)    \n",
    "result[0]"
   ]
  },
  {
   "cell_type": "code",
   "execution_count": 75,
   "metadata": {},
   "outputs": [
    {
     "data": {
      "text/html": [
       "<div>\n",
       "<style scoped>\n",
       "    .dataframe tbody tr th:only-of-type {\n",
       "        vertical-align: middle;\n",
       "    }\n",
       "\n",
       "    .dataframe tbody tr th {\n",
       "        vertical-align: top;\n",
       "    }\n",
       "\n",
       "    .dataframe thead th {\n",
       "        text-align: right;\n",
       "    }\n",
       "</style>\n",
       "<table border=\"1\" class=\"dataframe\">\n",
       "  <thead>\n",
       "    <tr style=\"text-align: right;\">\n",
       "      <th></th>\n",
       "      <th>inputs</th>\n",
       "    </tr>\n",
       "  </thead>\n",
       "  <tbody>\n",
       "    <tr>\n",
       "      <th>0</th>\n",
       "      <td>2</td>\n",
       "    </tr>\n",
       "    <tr>\n",
       "      <th>1</th>\n",
       "      <td>1.csv</td>\n",
       "    </tr>\n",
       "    <tr>\n",
       "      <th>2</th>\n",
       "      <td>greaterthan80</td>\n",
       "    </tr>\n",
       "    <tr>\n",
       "      <th>3</th>\n",
       "      <td>9.csv</td>\n",
       "    </tr>\n",
       "    <tr>\n",
       "      <th>4</th>\n",
       "      <td>lessthan50</td>\n",
       "    </tr>\n",
       "  </tbody>\n",
       "</table>\n",
       "</div>"
      ],
      "text/plain": [
       "          inputs\n",
       "0              2\n",
       "1          1.csv\n",
       "2  greaterthan80\n",
       "3          9.csv\n",
       "4     lessthan50"
      ]
     },
     "execution_count": 75,
     "metadata": {},
     "output_type": "execute_result"
    }
   ],
   "source": [
    "txt = pd.read_csv('C:\\\\Users\\\\preethi\\\\.ipynb_checkpoints\\\\testcaseStudent.txt',header = None ,names = ['inputs'] )\n",
    "txt"
   ]
  },
  {
   "cell_type": "code",
   "execution_count": 76,
   "metadata": {},
   "outputs": [
    {
     "data": {
      "text/plain": [
       "2"
      ]
     },
     "execution_count": 76,
     "metadata": {},
     "output_type": "execute_result"
    }
   ],
   "source": [
    "test_case = int(txt.iloc[0,0])\n",
    "test_case"
   ]
  },
  {
   "cell_type": "code",
   "execution_count": 77,
   "metadata": {},
   "outputs": [
    {
     "name": "stdout",
     "output_type": "stream",
     "text": [
      "0\n",
      "1\n",
      "2\n",
      "3\n",
      "4\n",
      "[0, 1, 2, 3, 4]\n"
     ]
    }
   ],
   "source": [
    "lst = []\n",
    "for i in range(test_case*2+1):\n",
    "    print(i)\n",
    "    lst.append(i)\n",
    "print(lst)"
   ]
  },
  {
   "cell_type": "code",
   "execution_count": 78,
   "metadata": {},
   "outputs": [
    {
     "name": "stdout",
     "output_type": "stream",
     "text": [
      "[1, 3]\n",
      "[2, 4]\n"
     ]
    }
   ],
   "source": [
    "file_name = lst[1::2]\n",
    "column = lst[2::2]\n",
    "print(file_name)\n",
    "print(column)"
   ]
  },
  {
   "cell_type": "code",
   "execution_count": 88,
   "metadata": {},
   "outputs": [
    {
     "name": "stdout",
     "output_type": "stream",
     "text": [
      "1.csv\n",
      "1\n",
      "9.csv\n",
      "9\n",
      "a = [0, 8]\n",
      "greaterthan80\n",
      "lessthan50\n",
      "v= [1, 9]\n",
      "c = ['greaterthan80', 'lessthan50']\n"
     ]
    }
   ],
   "source": [
    "v = []\n",
    "for i in file_name:\n",
    "    x = txt.iloc[i,0]\n",
    "    print(x)\n",
    "    y = int(x[0])\n",
    "    print(y)\n",
    "    v.append(y)\n",
    "#sub -1 to match index\n",
    "a = [i - 1 for i in v]\n",
    "print(f'a = {a}')\n",
    "\n",
    "c = []\n",
    "for i in column:\n",
    "    x = txt.iloc[i,0]\n",
    "    print(x)\n",
    "    c.append(x)\n",
    "\n",
    "print(f'v= {v}')\n",
    "print(f'c = {c}')"
   ]
  },
  {
   "cell_type": "code",
   "execution_count": 92,
   "metadata": {},
   "outputs": [
    {
     "name": "stdout",
     "output_type": "stream",
     "text": [
      "0 greaterthan80\n",
      "Quiz_1    9\n",
      "Quiz_2    5\n",
      "Name: greaterthan80, dtype: int64\n",
      "[0]\n",
      "8 lessthan50\n",
      "Quiz_1    23\n",
      "Quiz_2    29\n",
      "Name: lessthan50, dtype: int64\n",
      "[8]\n"
     ]
    }
   ],
   "source": [
    "for (x,y) in zip(a,c):\n",
    "    print(x,y)\n",
    "    print(result[x][y])\n",
    "    print([x])"
   ]
  },
  {
   "cell_type": "code",
   "execution_count": null,
   "metadata": {},
   "outputs": [],
   "source": []
  }
 ],
 "metadata": {
  "kernelspec": {
   "display_name": "Python 3",
   "language": "python",
   "name": "python3"
  },
  "language_info": {
   "codemirror_mode": {
    "name": "ipython",
    "version": 3
   },
   "file_extension": ".py",
   "mimetype": "text/x-python",
   "name": "python",
   "nbconvert_exporter": "python",
   "pygments_lexer": "ipython3",
   "version": "3.7.3"
  }
 },
 "nbformat": 4,
 "nbformat_minor": 2
}
