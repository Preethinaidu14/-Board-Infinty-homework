{
  "nbformat": 4,
  "nbformat_minor": 0,
  "metadata": {
    "colab": {
      "name": "intro to python.ipynb",
      "provenance": [],
      "collapsed_sections": []
    },
    "kernelspec": {
      "name": "python3",
      "display_name": "Python 3"
    }
  },
  "cells": [
    {
      "cell_type": "code",
      "metadata": {
        "id": "Edka24GtxiJw",
        "colab_type": "code",
        "colab": {}
      },
      "source": [
        "## deep learning algo ___ TPU  tensor processing unit\n",
        "## graphichal processing unit ___ more processing power"
      ],
      "execution_count": 0,
      "outputs": []
    },
    {
      "cell_type": "code",
      "metadata": {
        "id": "PgVfLMNJKEsp",
        "colab_type": "code",
        "colab": {}
      },
      "source": [
        ""
      ],
      "execution_count": 0,
      "outputs": []
    },
    {
      "cell_type": "markdown",
      "metadata": {
        "id": "bIaRqYjCLnYi",
        "colab_type": "text"
      },
      "source": [
        "1st jupyter notebook"
      ]
    },
    {
      "cell_type": "code",
      "metadata": {
        "id": "FOIZspoxLoKQ",
        "colab_type": "code",
        "colab": {}
      },
      "source": [
        "name = \"Preethi\"    # form of string"
      ],
      "execution_count": 0,
      "outputs": []
    },
    {
      "cell_type": "code",
      "metadata": {
        "id": "zRd9SBC5PBCJ",
        "colab_type": "code",
        "colab": {
          "base_uri": "https://localhost:8080/",
          "height": 34
        },
        "outputId": "8ef53730-382d-45dc-8d8c-6f78873545fb"
      },
      "source": [
        "name"
      ],
      "execution_count": 5,
      "outputs": [
        {
          "output_type": "execute_result",
          "data": {
            "text/plain": [
              "'Preethi'"
            ]
          },
          "metadata": {
            "tags": []
          },
          "execution_count": 5
        }
      ]
    },
    {
      "cell_type": "code",
      "metadata": {
        "id": "4HoLVs0fPEw7",
        "colab_type": "code",
        "colab": {}
      },
      "source": [
        "#form of number\n",
        "\n",
        "age = 27"
      ],
      "execution_count": 0,
      "outputs": []
    },
    {
      "cell_type": "code",
      "metadata": {
        "id": "3B1v63qFRNw3",
        "colab_type": "code",
        "colab": {
          "base_uri": "https://localhost:8080/",
          "height": 34
        },
        "outputId": "594aba13-a4fb-4607-aff4-8e8469b58c53"
      },
      "source": [
        "age"
      ],
      "execution_count": 7,
      "outputs": [
        {
          "output_type": "execute_result",
          "data": {
            "text/plain": [
              "27"
            ]
          },
          "metadata": {
            "tags": []
          },
          "execution_count": 7
        }
      ]
    },
    {
      "cell_type": "code",
      "metadata": {
        "id": "cA64b6hkROsY",
        "colab_type": "code",
        "colab": {
          "base_uri": "https://localhost:8080/",
          "height": 34
        },
        "outputId": "ba6b4cd5-c7e0-431c-9376-da83a2ecd2ae"
      },
      "source": [
        "# print multiple variables\n",
        "\n",
        "print(name,age)"
      ],
      "execution_count": 8,
      "outputs": [
        {
          "output_type": "stream",
          "text": [
            "Preethi 27\n"
          ],
          "name": "stdout"
        }
      ]
    },
    {
      "cell_type": "code",
      "metadata": {
        "id": "VKGCudNTSEu9",
        "colab_type": "code",
        "colab": {}
      },
      "source": [
        "# boolean variables (capital letters)\n",
        "\n",
        "male = False\n"
      ],
      "execution_count": 0,
      "outputs": []
    },
    {
      "cell_type": "code",
      "metadata": {
        "id": "CWE6bEv1SeNS",
        "colab_type": "code",
        "colab": {
          "base_uri": "https://localhost:8080/",
          "height": 34
        },
        "outputId": "eec57cb7-bb37-4748-d973-9919bc9c689f"
      },
      "source": [
        "male"
      ],
      "execution_count": 19,
      "outputs": [
        {
          "output_type": "execute_result",
          "data": {
            "text/plain": [
              "False"
            ]
          },
          "metadata": {
            "tags": []
          },
          "execution_count": 19
        }
      ]
    },
    {
      "cell_type": "code",
      "metadata": {
        "id": "iT2_QL-BToJT",
        "colab_type": "code",
        "colab": {}
      },
      "source": [
        "# floating numbers (decimal points)\n",
        "\n",
        "percentage = 80"
      ],
      "execution_count": 0,
      "outputs": []
    },
    {
      "cell_type": "code",
      "metadata": {
        "id": "qvinSNEQUAvK",
        "colab_type": "code",
        "colab": {
          "base_uri": "https://localhost:8080/",
          "height": 34
        },
        "outputId": "490f2ff1-611c-44bf-ad11-4def6c5ff897"
      },
      "source": [
        "percentage"
      ],
      "execution_count": 21,
      "outputs": [
        {
          "output_type": "execute_result",
          "data": {
            "text/plain": [
              "80"
            ]
          },
          "metadata": {
            "tags": []
          },
          "execution_count": 21
        }
      ]
    },
    {
      "cell_type": "code",
      "metadata": {
        "id": "C2b--NgxUIbw",
        "colab_type": "code",
        "colab": {}
      },
      "source": [
        ""
      ],
      "execution_count": 0,
      "outputs": []
    },
    {
      "cell_type": "markdown",
      "metadata": {
        "id": "IHizrzbtUmy-",
        "colab_type": "text"
      },
      "source": [
        "**LIST STORES A GROUP OF VALUES**"
      ]
    },
    {
      "cell_type": "code",
      "metadata": {
        "id": "34g8rY58Uv40",
        "colab_type": "code",
        "colab": {
          "base_uri": "https://localhost:8080/",
          "height": 34
        },
        "outputId": "71517bd6-3686-481a-84ac-7dde249239b5"
      },
      "source": [
        "#make a list called marks\n",
        "#list can handle string,float,boolean varaibles\n",
        "\n",
        "marks = [66.9,70.1,89,'cute',True]\n",
        "marks"
      ],
      "execution_count": 24,
      "outputs": [
        {
          "output_type": "execute_result",
          "data": {
            "text/plain": [
              "[66.9, 70.1, 89, 'cute', True]"
            ]
          },
          "metadata": {
            "tags": []
          },
          "execution_count": 24
        }
      ]
    },
    {
      "cell_type": "code",
      "metadata": {
        "id": "jDV-FjiHeo_A",
        "colab_type": "code",
        "colab": {
          "base_uri": "https://localhost:8080/",
          "height": 34
        },
        "outputId": "eb32d7a5-88db-4c3b-9670-8109e9ef1005"
      },
      "source": [
        "len(marks)"
      ],
      "execution_count": 38,
      "outputs": [
        {
          "output_type": "execute_result",
          "data": {
            "text/plain": [
              "5"
            ]
          },
          "metadata": {
            "tags": []
          },
          "execution_count": 38
        }
      ]
    },
    {
      "cell_type": "code",
      "metadata": {
        "id": "C3eBrGlVVDrk",
        "colab_type": "code",
        "colab": {
          "base_uri": "https://localhost:8080/",
          "height": 34
        },
        "outputId": "36ff83a4-7eef-47a2-d39f-68ef1488794c"
      },
      "source": [
        "marks[3]"
      ],
      "execution_count": 25,
      "outputs": [
        {
          "output_type": "execute_result",
          "data": {
            "text/plain": [
              "'cute'"
            ]
          },
          "metadata": {
            "tags": []
          },
          "execution_count": 25
        }
      ]
    },
    {
      "cell_type": "code",
      "metadata": {
        "id": "5-_4-PBqWBym",
        "colab_type": "code",
        "colab": {
          "base_uri": "https://localhost:8080/",
          "height": 34
        },
        "outputId": "be090463-ed9f-4c77-c1e7-84e8a17cd031"
      },
      "source": [
        "marks[0:2]"
      ],
      "execution_count": 27,
      "outputs": [
        {
          "output_type": "execute_result",
          "data": {
            "text/plain": [
              "[66.9, 70.1]"
            ]
          },
          "metadata": {
            "tags": []
          },
          "execution_count": 27
        }
      ]
    },
    {
      "cell_type": "markdown",
      "metadata": {
        "id": "Ufx2GSh5WvLe",
        "colab_type": "text"
      },
      "source": [
        "**DICTIONARY**"
      ]
    },
    {
      "cell_type": "code",
      "metadata": {
        "id": "XHyOKBwDWz22",
        "colab_type": "code",
        "colab": {}
      },
      "source": [
        "## KEY HA TO BE IN STRING and with inverted commas\n",
        "# VALUE CAN BE BOOLEAN, numbers, float values, strings\n",
        "# Key  = value "
      ],
      "execution_count": 0,
      "outputs": []
    },
    {
      "cell_type": "code",
      "metadata": {
        "id": "lsys7fgQXhVr",
        "colab_type": "code",
        "colab": {
          "base_uri": "https://localhost:8080/",
          "height": 101
        },
        "outputId": "82e94ef6-4c3e-4270-bcc5-e296f5ae16a7"
      },
      "source": [
        "education = {'tenth' : 80,'twelth': 76.2,'graduation': 84,'Name': 'preethi naidu','female':True }\n",
        "education"
      ],
      "execution_count": 30,
      "outputs": [
        {
          "output_type": "execute_result",
          "data": {
            "text/plain": [
              "{'Name': 'preethi naidu',\n",
              " 'female': True,\n",
              " 'graduation': 84,\n",
              " 'tenth': 80,\n",
              " 'twelth': 76.2}"
            ]
          },
          "metadata": {
            "tags": []
          },
          "execution_count": 30
        }
      ]
    },
    {
      "cell_type": "code",
      "metadata": {
        "id": "SIuq8QicYFcm",
        "colab_type": "code",
        "colab": {
          "base_uri": "https://localhost:8080/",
          "height": 34
        },
        "outputId": "85df9370-5a0e-4a35-e379-fdd0b940f66e"
      },
      "source": [
        "# selecting an item from a dict\n",
        "# print only 10th grade\n",
        "\n",
        "education['tenth']"
      ],
      "execution_count": 31,
      "outputs": [
        {
          "output_type": "execute_result",
          "data": {
            "text/plain": [
              "80"
            ]
          },
          "metadata": {
            "tags": []
          },
          "execution_count": 31
        }
      ]
    },
    {
      "cell_type": "code",
      "metadata": {
        "id": "ME4mKRY4ZaGa",
        "colab_type": "code",
        "colab": {
          "base_uri": "https://localhost:8080/",
          "height": 34
        },
        "outputId": "332cd6ca-3eb5-4299-fb0b-350272d5bcc4"
      },
      "source": [
        "# print only keys\n",
        "\n",
        "education.keys()"
      ],
      "execution_count": 32,
      "outputs": [
        {
          "output_type": "execute_result",
          "data": {
            "text/plain": [
              "dict_keys(['tenth', 'twelth', 'graduation', 'Name', 'female'])"
            ]
          },
          "metadata": {
            "tags": []
          },
          "execution_count": 32
        }
      ]
    },
    {
      "cell_type": "code",
      "metadata": {
        "id": "u56r4M_AZ06p",
        "colab_type": "code",
        "colab": {
          "base_uri": "https://localhost:8080/",
          "height": 34
        },
        "outputId": "445d02a3-ea8f-49f0-8104-cdeb9dc5ec72"
      },
      "source": [
        "education.values()"
      ],
      "execution_count": 33,
      "outputs": [
        {
          "output_type": "execute_result",
          "data": {
            "text/plain": [
              "dict_values([80, 76.2, 84, 'preethi naidu', True])"
            ]
          },
          "metadata": {
            "tags": []
          },
          "execution_count": 33
        }
      ]
    },
    {
      "cell_type": "code",
      "metadata": {
        "id": "QImuIrltZ3iM",
        "colab_type": "code",
        "colab": {}
      },
      "source": [
        "# make a dict containing a list of marks of 3 students\n",
        "\n",
        "students = {'st1':[88,67.9,50],'st2':[45.7,66,90],'st3':[36,77,88.12]}"
      ],
      "execution_count": 0,
      "outputs": []
    },
    {
      "cell_type": "code",
      "metadata": {
        "id": "Boeea_ODc1Id",
        "colab_type": "code",
        "colab": {
          "base_uri": "https://localhost:8080/",
          "height": 34
        },
        "outputId": "6bc8b447-4868-4160-82b2-fb85bd8c0961"
      },
      "source": [
        "# print the marks for students 2 (only his graduation scores)\n",
        "\n",
        "students['st2'][-1]"
      ],
      "execution_count": 37,
      "outputs": [
        {
          "output_type": "execute_result",
          "data": {
            "text/plain": [
              "90"
            ]
          },
          "metadata": {
            "tags": []
          },
          "execution_count": 37
        }
      ]
    },
    {
      "cell_type": "code",
      "metadata": {
        "id": "6hkSrHMUbumZ",
        "colab_type": "code",
        "colab": {}
      },
      "source": [
        "#make a list containing a dic\n",
        "\n",
        "friends = [{'name':'rahul','age' : 27},{'name':'ravi','age':26}]"
      ],
      "execution_count": 0,
      "outputs": []
    },
    {
      "cell_type": "code",
      "metadata": {
        "id": "JbjrJ6_bb77F",
        "colab_type": "code",
        "colab": {
          "base_uri": "https://localhost:8080/",
          "height": 34
        },
        "outputId": "7c4b680d-1f0a-45a6-80eb-e8477b2aa9b1"
      },
      "source": [
        "# find out the type of data for variable friends\n",
        "\n",
        "type(friends)"
      ],
      "execution_count": 42,
      "outputs": [
        {
          "output_type": "execute_result",
          "data": {
            "text/plain": [
              "list"
            ]
          },
          "metadata": {
            "tags": []
          },
          "execution_count": 42
        }
      ]
    },
    {
      "cell_type": "code",
      "metadata": {
        "id": "hR42wo12f0ha",
        "colab_type": "code",
        "colab": {
          "base_uri": "https://localhost:8080/",
          "height": 34
        },
        "outputId": "ab9e4ba8-e746-4920-c480-930757157b7b"
      },
      "source": [
        "type(friends[0])"
      ],
      "execution_count": 40,
      "outputs": [
        {
          "output_type": "execute_result",
          "data": {
            "text/plain": [
              "dict"
            ]
          },
          "metadata": {
            "tags": []
          },
          "execution_count": 40
        }
      ]
    },
    {
      "cell_type": "code",
      "metadata": {
        "id": "U7k7Mbk-f3-X",
        "colab_type": "code",
        "colab": {
          "base_uri": "https://localhost:8080/",
          "height": 34
        },
        "outputId": "338b0338-6958-4f78-a14f-e0dcdfd7c4b0"
      },
      "source": [
        "type(marks)"
      ],
      "execution_count": 45,
      "outputs": [
        {
          "output_type": "execute_result",
          "data": {
            "text/plain": [
              "list"
            ]
          },
          "metadata": {
            "tags": []
          },
          "execution_count": 45
        }
      ]
    },
    {
      "cell_type": "code",
      "metadata": {
        "id": "s50mvnwBf69w",
        "colab_type": "code",
        "colab": {
          "base_uri": "https://localhost:8080/",
          "height": 34
        },
        "outputId": "9762b20e-4fde-4f5c-d0f0-c925bc2f8eb6"
      },
      "source": [
        "type(friends[1])"
      ],
      "execution_count": 43,
      "outputs": [
        {
          "output_type": "execute_result",
          "data": {
            "text/plain": [
              "dict"
            ]
          },
          "metadata": {
            "tags": []
          },
          "execution_count": 43
        }
      ]
    },
    {
      "cell_type": "code",
      "metadata": {
        "id": "wallAfElgLfG",
        "colab_type": "code",
        "colab": {
          "base_uri": "https://localhost:8080/",
          "height": 34
        },
        "outputId": "1fb8cfa0-f476-473e-afad-8bccc6d20fcd"
      },
      "source": [
        "# create a new list with 3 friends, print it and add a fourth friend\n",
        "\n",
        "my_friends = ['rahul','gaurav','kajal','nampoo']\n",
        "my_friends"
      ],
      "execution_count": 46,
      "outputs": [
        {
          "output_type": "execute_result",
          "data": {
            "text/plain": [
              "['rahul', 'gaurav', 'kajal', 'nampoo']"
            ]
          },
          "metadata": {
            "tags": []
          },
          "execution_count": 46
        }
      ]
    },
    {
      "cell_type": "code",
      "metadata": {
        "id": "skIKDYktip-V",
        "colab_type": "code",
        "colab": {}
      },
      "source": [
        "my_friends.append('aish')"
      ],
      "execution_count": 0,
      "outputs": []
    },
    {
      "cell_type": "code",
      "metadata": {
        "id": "KmxhXzNbjEAi",
        "colab_type": "code",
        "colab": {
          "base_uri": "https://localhost:8080/",
          "height": 34
        },
        "outputId": "fc4ae300-4b3d-4f43-dacc-8747ce7b8ada"
      },
      "source": [
        "my_friends"
      ],
      "execution_count": 48,
      "outputs": [
        {
          "output_type": "execute_result",
          "data": {
            "text/plain": [
              "['rahul', 'gaurav', 'kajal', 'nampoo', 'aish']"
            ]
          },
          "metadata": {
            "tags": []
          },
          "execution_count": 48
        }
      ]
    },
    {
      "cell_type": "code",
      "metadata": {
        "id": "OcPxCrwajHAD",
        "colab_type": "code",
        "colab": {
          "base_uri": "https://localhost:8080/",
          "height": 34
        },
        "outputId": "923c2196-3232-4d34-9823-a496d3c9f747"
      },
      "source": [
        "my_friends[0]='sumit'\n",
        "my_friends"
      ],
      "execution_count": 49,
      "outputs": [
        {
          "output_type": "execute_result",
          "data": {
            "text/plain": [
              "['sumit', 'gaurav', 'kajal', 'nampoo', 'aish']"
            ]
          },
          "metadata": {
            "tags": []
          },
          "execution_count": 49
        }
      ]
    },
    {
      "cell_type": "code",
      "metadata": {
        "id": "V7BSqaLckpim",
        "colab_type": "code",
        "colab": {}
      },
      "source": [
        " # R is statistical library we cannot do web development, deep learning and is not OOP, and is only for banking, data analytics\n",
        " # python _ is OOP whre we have claases, its own variables, can do web development, and deep learning\n"
      ],
      "execution_count": 0,
      "outputs": []
    },
    {
      "cell_type": "markdown",
      "metadata": {
        "id": "BxSr9vE4tVce",
        "colab_type": "text"
      },
      "source": [
        "**KAGGLE**"
      ]
    },
    {
      "cell_type": "code",
      "metadata": {
        "id": "mHxutxZNtY4e",
        "colab_type": "code",
        "colab": {}
      },
      "source": [
        ""
      ],
      "execution_count": 0,
      "outputs": []
    }
  ]
}