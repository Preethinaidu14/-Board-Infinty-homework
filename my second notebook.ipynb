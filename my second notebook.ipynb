{
  "nbformat": 4,
  "nbformat_minor": 0,
  "metadata": {
    "colab": {
      "name": "my second notebook.ipynb",
      "provenance": [],
      "collapsed_sections": []
    },
    "kernelspec": {
      "name": "python3",
      "display_name": "Python 3"
    },
    "accelerator": "GPU"
  },
  "cells": [
    {
      "cell_type": "markdown",
      "metadata": {
        "id": "jVtLDgHBdiPm",
        "colab_type": "text"
      },
      "source": [
        "**INTRODUCTION**\n",
        "\n",
        "My name is Preethi naidu.I have done my Bachelor's degree in physics from K.J.somaiya with an aggregate of 80%.  I am currently persuing Master's degree Physics specialization in material science from Institute of Chemical Technology. My father is a government employee and my mother is housewife.\n",
        "I am an avid reader. I love traveling, dancing, eating, swimming. I am self-desciplined person. I am a good learner. My stengths are my way of talking, my punctuality and also i can work under pressure.My carrer goal is to get a job in a reputed company where i put my all efforts as well as i can enhance my knowledge whenever i go in future."
      ]
    },
    {
      "cell_type": "markdown",
      "metadata": {
        "id": "m00ccfAzhWgl",
        "colab_type": "text"
      },
      "source": [
        "**WHY DO YOU WANT TO BECOME A DATA SCIENTIST**\n",
        "\n",
        "Data Science is the career of the future. Industries are becoming data-driven and new innovations are being made every day. The field of technology has become dynamic and with more and more people interacting with the internet, more data is being generated.\n",
        "Scientists and a rapid increase in demand, there is a huge income bubble that has made Data Science a lucrative career.\n"
      ]
    },
    {
      "cell_type": "code",
      "metadata": {
        "id": "glaZgawXhb_h",
        "colab_type": "code",
        "outputId": "ec365441-468d-471e-ef70-9128c1f72c3d",
        "colab": {
          "base_uri": "https://localhost:8080/",
          "height": 34
        }
      },
      "source": [
        "firstname = 'Preethi'\n",
        "firstname"
      ],
      "execution_count": 17,
      "outputs": [
        {
          "output_type": "execute_result",
          "data": {
            "text/plain": [
              "'Preethi'"
            ]
          },
          "metadata": {
            "tags": []
          },
          "execution_count": 17
        }
      ]
    },
    {
      "cell_type": "code",
      "metadata": {
        "id": "NTJhTqenp0bR",
        "colab_type": "code",
        "colab": {
          "base_uri": "https://localhost:8080/",
          "height": 34
        },
        "outputId": "4154c7a7-ac40-493b-e3da-04a44e4001dd"
      },
      "source": [
        "lastname = 'Naidu'\n",
        "lastname"
      ],
      "execution_count": 18,
      "outputs": [
        {
          "output_type": "execute_result",
          "data": {
            "text/plain": [
              "'Naidu'"
            ]
          },
          "metadata": {
            "tags": []
          },
          "execution_count": 18
        }
      ]
    },
    {
      "cell_type": "code",
      "metadata": {
        "id": "FR3KWZztp6PO",
        "colab_type": "code",
        "colab": {
          "base_uri": "https://localhost:8080/",
          "height": 34
        },
        "outputId": "6d4dc83c-50fa-4805-ff01-f38adecc9780"
      },
      "source": [
        "cityname = 'Ambernath'\n",
        "cityname"
      ],
      "execution_count": 35,
      "outputs": [
        {
          "output_type": "execute_result",
          "data": {
            "text/plain": [
              "'Ambernath'"
            ]
          },
          "metadata": {
            "tags": []
          },
          "execution_count": 35
        }
      ]
    },
    {
      "cell_type": "code",
      "metadata": {
        "id": "UKmM_ol_iAyV",
        "colab_type": "code",
        "outputId": "9b666966-d3ce-4885-ac1e-32d05fe578ed",
        "colab": {
          "base_uri": "https://localhost:8080/",
          "height": 34
        }
      },
      "source": [
        "age = 23\n",
        "age"
      ],
      "execution_count": 21,
      "outputs": [
        {
          "output_type": "execute_result",
          "data": {
            "text/plain": [
              "23"
            ]
          },
          "metadata": {
            "tags": []
          },
          "execution_count": 21
        }
      ]
    },
    {
      "cell_type": "code",
      "metadata": {
        "id": "mRMAhG4qqFZd",
        "colab_type": "code",
        "colab": {
          "base_uri": "https://localhost:8080/",
          "height": 34
        },
        "outputId": "a4639464-bb7f-4bb5-c976-e48c3aedcda9"
      },
      "source": [
        "height = 167.64\n",
        "height"
      ],
      "execution_count": 38,
      "outputs": [
        {
          "output_type": "execute_result",
          "data": {
            "text/plain": [
              "167.64"
            ]
          },
          "metadata": {
            "tags": []
          },
          "execution_count": 38
        }
      ]
    },
    {
      "cell_type": "code",
      "metadata": {
        "id": "TafvSagJi7O3",
        "colab_type": "code",
        "outputId": "9e74d5f8-cd0f-450b-a7af-091bd7553b2a",
        "colab": {
          "base_uri": "https://localhost:8080/",
          "height": 34
        }
      },
      "source": [
        "tenth = 79.9 \n",
        "tenth"
      ],
      "execution_count": 27,
      "outputs": [
        {
          "output_type": "execute_result",
          "data": {
            "text/plain": [
              "79.9"
            ]
          },
          "metadata": {
            "tags": []
          },
          "execution_count": 27
        }
      ]
    },
    {
      "cell_type": "code",
      "metadata": {
        "id": "Ux47wDVSqeVH",
        "colab_type": "code",
        "colab": {
          "base_uri": "https://localhost:8080/",
          "height": 34
        },
        "outputId": "e8ba5a15-cfc5-40c9-ab38-c39aeedf3ba4"
      },
      "source": [
        "twelth = 76.2\n",
        "twelth"
      ],
      "execution_count": 28,
      "outputs": [
        {
          "output_type": "execute_result",
          "data": {
            "text/plain": [
              "76.2"
            ]
          },
          "metadata": {
            "tags": []
          },
          "execution_count": 28
        }
      ]
    },
    {
      "cell_type": "code",
      "metadata": {
        "id": "eAPQTkJXjJtP",
        "colab_type": "code",
        "outputId": "bfd35392-a187-407b-c12e-f44487d80adc",
        "colab": {
          "base_uri": "https://localhost:8080/",
          "height": 34
        }
      },
      "source": [
        "favourite_numbers = [8,79.8,23,54.6,1.2]\n",
        "favourite_numbers"
      ],
      "execution_count": 0,
      "outputs": [
        {
          "output_type": "execute_result",
          "data": {
            "text/plain": [
              "[8, 79.8, 23, 54.6, 1.2]"
            ]
          },
          "metadata": {
            "tags": []
          },
          "execution_count": 5
        }
      ]
    },
    {
      "cell_type": "code",
      "metadata": {
        "id": "aTSKdYWbjdkU",
        "colab_type": "code",
        "outputId": "443dabea-ff94-4b9b-80a2-5593a8e7b7f4",
        "colab": {
          "base_uri": "https://localhost:8080/",
          "height": 34
        }
      },
      "source": [
        "my_friends = ['bonny','nampoo','gaurav','vipul','kajal']\n",
        "my_friends"
      ],
      "execution_count": 0,
      "outputs": [
        {
          "output_type": "execute_result",
          "data": {
            "text/plain": [
              "['bonny', 'nampoo', 'gaurav', 'vipul', 'kajal']"
            ]
          },
          "metadata": {
            "tags": []
          },
          "execution_count": 7
        }
      ]
    },
    {
      "cell_type": "code",
      "metadata": {
        "id": "lwVTjITxjo7n",
        "colab_type": "code",
        "outputId": "b0129c70-e63e-4f4a-e8ca-50d8041df7fb",
        "colab": {
          "base_uri": "https://localhost:8080/",
          "height": 34
        }
      },
      "source": [
        "my_friends[0]"
      ],
      "execution_count": 0,
      "outputs": [
        {
          "output_type": "execute_result",
          "data": {
            "text/plain": [
              "'bonny'"
            ]
          },
          "metadata": {
            "tags": []
          },
          "execution_count": 8
        }
      ]
    },
    {
      "cell_type": "code",
      "metadata": {
        "id": "uUHptwbRj1Ci",
        "colab_type": "code",
        "outputId": "1b6d1cc5-b53f-43d4-b2d7-662d8d59a44d",
        "colab": {
          "base_uri": "https://localhost:8080/",
          "height": 34
        }
      },
      "source": [
        "favourite_numbers[-1]"
      ],
      "execution_count": 0,
      "outputs": [
        {
          "output_type": "execute_result",
          "data": {
            "text/plain": [
              "1.2"
            ]
          },
          "metadata": {
            "tags": []
          },
          "execution_count": 9
        }
      ]
    },
    {
      "cell_type": "code",
      "metadata": {
        "id": "vTs_MEiRkA_9",
        "colab_type": "code",
        "outputId": "ba59f2f1-a99c-4e68-b765-e82c30e7d5ae",
        "colab": {
          "base_uri": "https://localhost:8080/",
          "height": 118
        }
      },
      "source": [
        "myself = {'date of birth': 14_04_1997,'favourite colour': 'yellow' ,'age':23 ,'gender':'female','Name':'preethi','favourite song': 'wasabi'}\n",
        "myself"
      ],
      "execution_count": 40,
      "outputs": [
        {
          "output_type": "execute_result",
          "data": {
            "text/plain": [
              "{'Name': 'preethi',\n",
              " 'age': 23,\n",
              " 'date of birth': 14041997,\n",
              " 'favourite colour': 'yellow',\n",
              " 'favourite song': 'wasabi',\n",
              " 'gender': 'female'}"
            ]
          },
          "metadata": {
            "tags": []
          },
          "execution_count": 40
        }
      ]
    },
    {
      "cell_type": "code",
      "metadata": {
        "id": "lovTCEVelDju",
        "colab_type": "code",
        "colab": {
          "base_uri": "https://localhost:8080/",
          "height": 34
        },
        "outputId": "a1f09b26-ca43-4896-d535-8f349ecc4d34"
      },
      "source": [
        "myself['Name']"
      ],
      "execution_count": 32,
      "outputs": [
        {
          "output_type": "execute_result",
          "data": {
            "text/plain": [
              "'preethi'"
            ]
          },
          "metadata": {
            "tags": []
          },
          "execution_count": 32
        }
      ]
    },
    {
      "cell_type": "code",
      "metadata": {
        "id": "D21Ka5dtohPl",
        "colab_type": "code",
        "colab": {
          "base_uri": "https://localhost:8080/",
          "height": 34
        },
        "outputId": "6dc5cab4-b8e8-4c37-ded4-81299f3ef24e"
      },
      "source": [
        "myself['gender']"
      ],
      "execution_count": 33,
      "outputs": [
        {
          "output_type": "execute_result",
          "data": {
            "text/plain": [
              "'female'"
            ]
          },
          "metadata": {
            "tags": []
          },
          "execution_count": 33
        }
      ]
    },
    {
      "cell_type": "code",
      "metadata": {
        "id": "I5BLvih-pKiL",
        "colab_type": "code",
        "colab": {
          "base_uri": "https://localhost:8080/",
          "height": 134
        },
        "outputId": "d93f4608-9992-4cc6-b532-f03e23f9f6bb"
      },
      "source": [
        "myself['vegetarian'] = False\n",
        "myself"
      ],
      "execution_count": 34,
      "outputs": [
        {
          "output_type": "execute_result",
          "data": {
            "text/plain": [
              "{'Name': 'preethi',\n",
              " 'age': 23,\n",
              " 'date of birth': 14041997,\n",
              " 'favourite colour': 'yellow',\n",
              " 'favourite song': 'wasabi',\n",
              " 'gender': 'female',\n",
              " 'vegetarian': False}"
            ]
          },
          "metadata": {
            "tags": []
          },
          "execution_count": 34
        }
      ]
    },
    {
      "cell_type": "code",
      "metadata": {
        "id": "5zeP2dM7rH33",
        "colab_type": "code",
        "colab": {}
      },
      "source": [
        ""
      ],
      "execution_count": 0,
      "outputs": []
    }
  ]
}