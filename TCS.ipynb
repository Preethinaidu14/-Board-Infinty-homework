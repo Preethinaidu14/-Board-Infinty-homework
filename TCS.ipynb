{
 "cells": [
  {
   "cell_type": "markdown",
   "metadata": {},
   "source": [
    "## AREA OF TRIANGLE"
   ]
  },
  {
   "cell_type": "code",
   "execution_count": 6,
   "metadata": {},
   "outputs": [
    {
     "name": "stdout",
     "output_type": "stream",
     "text": [
      "Enter the first side : 5\n",
      "Enter the second side : 6\n",
      "Enter the third side : 7\n",
      "The semi-perimeter of the triangle is : 9.0\n",
      "The area of the triangle is : 14.7\n"
     ]
    }
   ],
   "source": [
    "a = float(input('Enter the first side : '))\n",
    "b = float(input('Enter the second side : '))\n",
    "c = float(input('Enter the third side : '))\n",
    "\n",
    "# to calculate the semi-perimeter\n",
    "s = (a+b+c)/2\n",
    "print('The semi-perimeter of the triangle is :', s)\n",
    "\n",
    "# to calculate the are of triangle\n",
    "area = (s*(s-a)*(s-b)*(s-c))**0.5\n",
    "print('The area of the triangle is :' , round(area,2))"
   ]
  },
  {
   "cell_type": "markdown",
   "metadata": {},
   "source": [
    "## AREA OF CIRCLE"
   ]
  },
  {
   "cell_type": "code",
   "execution_count": 12,
   "metadata": {},
   "outputs": [
    {
     "name": "stdout",
     "output_type": "stream",
     "text": [
      "Enter the radius of the circle : 6\n",
      "The area of the circle :  113.1\n",
      "113.10\n"
     ]
    }
   ],
   "source": [
    "from math import pi\n",
    "r = float(input('Enter the radius of the circle : '))\n",
    "area = pi*r*r\n",
    "print('The area of the circle : ' , round(area,2))\n",
    "print(\"%.2f\" %area)"
   ]
  },
  {
   "cell_type": "markdown",
   "metadata": {},
   "source": [
    "## CHECK LEAP YEAR\n",
    "\n",
    " 1) The year is multiple of 400.\n",
    " \n",
    " \n",
    " 2) The year is multiple of 4 and not multiple of 100."
   ]
  },
  {
   "cell_type": "code",
   "execution_count": 28,
   "metadata": {},
   "outputs": [
    {
     "name": "stdout",
     "output_type": "stream",
     "text": [
      "Enter a year : 2012\n",
      "2012 is a leap year\n"
     ]
    }
   ],
   "source": [
    "year = int(input('Enter a year : '))\n",
    "\n",
    "if (year%4 ) == 0 and (year % 100) != 0:\n",
    "    print(f'{year} is a leap year')\n",
    "elif (year % 400) == 0:\n",
    "    print(f'{year} is a leap year')\n",
    "else:\n",
    "    print(f'{year} is not a leap year')"
   ]
  },
  {
   "cell_type": "markdown",
   "metadata": {},
   "source": [
    "## BINARY TO DECIMAL"
   ]
  },
  {
   "cell_type": "code",
   "execution_count": 38,
   "metadata": {},
   "outputs": [
    {
     "name": "stdout",
     "output_type": "stream",
     "text": [
      "Enter a binary number : 1011\n",
      "binary ['1', '0', '1', '1']\n",
      "digit : 1\n",
      "digit : 1\n",
      "digit : 0\n",
      "digit : 1\n",
      "The decimal value of the number is :  11\n"
     ]
    }
   ],
   "source": [
    "binary = list(input('Enter a binary number : '))\n",
    "print(f'binary {binary}')\n",
    "value = 0\n",
    "\n",
    "for i in range(len(binary)):\n",
    "    digit = binary.pop()\n",
    "    print(f'digit : {digit}')\n",
    "    \n",
    "    if digit == '1':\n",
    "        value = value + pow(2,i)\n",
    "        \n",
    "print('The decimal value of the number is : ', value)"
   ]
  },
  {
   "cell_type": "markdown",
   "metadata": {},
   "source": [
    "## DECIMAL TO BINARY"
   ]
  },
  {
   "cell_type": "code",
   "execution_count": 45,
   "metadata": {},
   "outputs": [
    {
     "name": "stdout",
     "output_type": "stream",
     "text": [
      "100010\n"
     ]
    }
   ],
   "source": [
    "def convertToBinary(n):\n",
    "    if n > 1:\n",
    "        convertToBinary(n//2)\n",
    "        \n",
    "    print(n % 2 , end = '')\n",
    "\n",
    "dec = 34\n",
    "convertToBinary(dec)\n",
    "print()"
   ]
  },
  {
   "cell_type": "markdown",
   "metadata": {},
   "source": [
    "## FACTORIAL OF A NUMBER"
   ]
  },
  {
   "cell_type": "code",
   "execution_count": 59,
   "metadata": {},
   "outputs": [
    {
     "name": "stdout",
     "output_type": "stream",
     "text": [
      "Enter a number whose factorial you need to find : 6\n",
      "Factorial of 6 is : 720\n"
     ]
    }
   ],
   "source": [
    "num = int(input('Enter a number whose factorial you need to find : '))\n",
    "\n",
    "fact = 1\n",
    "\n",
    "if num < 0:\n",
    "    print('Factorial of a negative number does not exist')\n",
    "elif num == 0:\n",
    "    print('Factorial of 0 is 1 ')\n",
    "if num > 0:\n",
    "    for i in range(1,num+1):\n",
    "        fact = fact * i\n",
    "    print(f'Factorial of {num} is : {fact}')"
   ]
  },
  {
   "cell_type": "markdown",
   "metadata": {},
   "source": [
    "## ODD EVEN NUMBER"
   ]
  },
  {
   "cell_type": "code",
   "execution_count": 63,
   "metadata": {},
   "outputs": [
    {
     "name": "stdout",
     "output_type": "stream",
     "text": [
      "Enter a number : 6\n",
      "6 is even.\n"
     ]
    }
   ],
   "source": [
    "num = int(input('Enter a number : '))\n",
    "\n",
    "if (num%2) == 0:\n",
    "    print(f'{num} is even.')\n",
    "else:\n",
    "    print(f'{num} is odd.')"
   ]
  },
  {
   "cell_type": "markdown",
   "metadata": {},
   "source": [
    "## SQUARE ROOT WITHOUT sqrt"
   ]
  },
  {
   "cell_type": "code",
   "execution_count": 65,
   "metadata": {},
   "outputs": [
    {
     "name": "stdout",
     "output_type": "stream",
     "text": [
      "Enter a number3\n",
      "1.7320508075688772\n"
     ]
    }
   ],
   "source": [
    "number = int(input('Enter a number'))\n",
    "\n",
    "print((number)**0.5)"
   ]
  },
  {
   "cell_type": "markdown",
   "metadata": {},
   "source": [
    "## PRIME NUMBER"
   ]
  },
  {
   "cell_type": "code",
   "execution_count": null,
   "metadata": {},
   "outputs": [],
   "source": []
  },
  {
   "cell_type": "markdown",
   "metadata": {},
   "source": [
    "## ARMSTRONG NUMBER"
   ]
  },
  {
   "cell_type": "code",
   "execution_count": 70,
   "metadata": {},
   "outputs": [
    {
     "name": "stdout",
     "output_type": "stream",
     "text": [
      "Enter a number : 153\n",
      "153 is a Armstrong number\n"
     ]
    }
   ],
   "source": [
    "num = int(input('Enter a number : '))\n",
    "\n",
    "sum = 0\n",
    "\n",
    "temp = num\n",
    "while temp > 0:\n",
    "    digit = temp % 10       # 153 % 10 = 3    : 15 % 10 = 5  :  1 % 10 = 1\n",
    "    sum += digit**3         # 3*3*3           : 5*5*5        : 1*1*1\n",
    "    temp //= 10             # 153 // 10 = 15   then this temp= 15 goes in upper loop     : 15 // 10 = 1   : 1 // 10 = 0\n",
    "    \n",
    "if num == sum:\n",
    "    print(f'{num} is a Armstrong number')\n",
    "else:\n",
    "    print(f'{num} is not an Armstrong number')"
   ]
  },
  {
   "cell_type": "markdown",
   "metadata": {},
   "source": [
    "## BINARY TO OCTAL"
   ]
  },
  {
   "cell_type": "code",
   "execution_count": 95,
   "metadata": {},
   "outputs": [
    {
     "name": "stdout",
     "output_type": "stream",
     "text": [
      "Enter number in Binary Format: 10101\n",
      "21\n",
      "10101 in Octal = 0o25\n"
     ]
    }
   ],
   "source": [
    "binary = input(\"Enter number in Binary Format: \")\n",
    "temp = int(binary,2)\n",
    "print(temp)\n",
    "print(binary,\"in Octal =\",oct(temp))"
   ]
  },
  {
   "cell_type": "markdown",
   "metadata": {},
   "source": [
    "## DECIMAL TO OCTAL\n",
    "\n",
    "To convert decimal into octal using recursion we need to pass the quotient (dividend/8) to the next recursive call and print the remainder (dividend % 8)."
   ]
  },
  {
   "cell_type": "code",
   "execution_count": 96,
   "metadata": {},
   "outputs": [
    {
     "ename": "SyntaxError",
     "evalue": "unexpected EOF while parsing (<ipython-input-96-a258da6d374a>, line 2)",
     "output_type": "error",
     "traceback": [
      "\u001b[1;36m  File \u001b[1;32m\"<ipython-input-96-a258da6d374a>\"\u001b[1;36m, line \u001b[1;32m2\u001b[0m\n\u001b[1;33m    if decimal > 0:\u001b[0m\n\u001b[1;37m                   ^\u001b[0m\n\u001b[1;31mSyntaxError\u001b[0m\u001b[1;31m:\u001b[0m unexpected EOF while parsing\n"
     ]
    }
   ],
   "source": [
    "def decToc(decimal):\n",
    "    if decimal > 0:\n",
    "        decToc(int(decimal/8))\n",
    "        print(decimal % 8 , end = ' ')\n",
    "\n",
    "decimal = int(input('Enter a decimal number'))\n",
    "print('Octal :')\n",
    "decimal()"
   ]
  },
  {
   "cell_type": "code",
   "execution_count": null,
   "metadata": {},
   "outputs": [],
   "source": []
  }
 ],
 "metadata": {
  "kernelspec": {
   "display_name": "Python 3",
   "language": "python",
   "name": "python3"
  },
  "language_info": {
   "codemirror_mode": {
    "name": "ipython",
    "version": 3
   },
   "file_extension": ".py",
   "mimetype": "text/x-python",
   "name": "python",
   "nbconvert_exporter": "python",
   "pygments_lexer": "ipython3",
   "version": "3.8.3"
  }
 },
 "nbformat": 4,
 "nbformat_minor": 4
}
